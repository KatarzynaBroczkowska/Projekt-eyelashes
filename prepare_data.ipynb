{
 "cells": [
  {
   "cell_type": "code",
   "execution_count": 2,
   "metadata": {},
   "outputs": [],
   "source": [
    "import pandas as pd\n",
    "from geopy.geocoders import Nominatim\n",
    "from geopy.extra.rate_limiter import RateLimiter\n",
    "from shapely.geometry import Point\n",
    "from tqdm import tqdm"
   ]
  },
  {
   "cell_type": "markdown",
   "metadata": {},
   "source": [
    "### Wczytanie danych"
   ]
  },
  {
   "cell_type": "code",
   "execution_count": 2,
   "metadata": {},
   "outputs": [],
   "source": [
    "df = pd.read_csv('manicure_hybrydowy.csv', encoding='utf-8', sep=';')"
   ]
  },
  {
   "cell_type": "code",
   "execution_count": 3,
   "metadata": {},
   "outputs": [
    {
     "data": {
      "text/html": [
       "<div>\n",
       "<style scoped>\n",
       "    .dataframe tbody tr th:only-of-type {\n",
       "        vertical-align: middle;\n",
       "    }\n",
       "\n",
       "    .dataframe tbody tr th {\n",
       "        vertical-align: top;\n",
       "    }\n",
       "\n",
       "    .dataframe thead th {\n",
       "        text-align: right;\n",
       "    }\n",
       "</style>\n",
       "<table border=\"1\" class=\"dataframe\">\n",
       "  <thead>\n",
       "    <tr style=\"text-align: right;\">\n",
       "      <th></th>\n",
       "      <th>Unnamed: 0</th>\n",
       "      <th>Description</th>\n",
       "      <th>Duration</th>\n",
       "      <th>Location</th>\n",
       "      <th>Price</th>\n",
       "    </tr>\n",
       "  </thead>\n",
       "  <tbody>\n",
       "    <tr>\n",
       "      <th>0</th>\n",
       "      <td>0</td>\n",
       "      <td>Manicure hybrydowy</td>\n",
       "      <td>2g</td>\n",
       "      <td>Generała Władysława Sikorskiego 14, 09-410, Płock</td>\n",
       "      <td>120.00</td>\n",
       "    </tr>\n",
       "    <tr>\n",
       "      <th>1</th>\n",
       "      <td>1</td>\n",
       "      <td>Manicure hybrydowy+ baby boomer</td>\n",
       "      <td>3g</td>\n",
       "      <td>Generała Władysława Sikorskiego 14, 09-410, Płock</td>\n",
       "      <td>170.00</td>\n",
       "    </tr>\n",
       "    <tr>\n",
       "      <th>2</th>\n",
       "      <td>2</td>\n",
       "      <td>Manicure hybrydowy+ french</td>\n",
       "      <td>2g</td>\n",
       "      <td>Generała Władysława Sikorskiego 14, 09-410, Płock</td>\n",
       "      <td>150.00</td>\n",
       "    </tr>\n",
       "    <tr>\n",
       "      <th>3</th>\n",
       "      <td>3</td>\n",
       "      <td>Manicure hybrydowy+ baza proteinowa</td>\n",
       "      <td>1g 30min</td>\n",
       "      <td>ul. Fr. Nullo 42 lok U11, 31-543, Kraków, Śród...</td>\n",
       "      <td>130.00</td>\n",
       "    </tr>\n",
       "    <tr>\n",
       "      <th>4</th>\n",
       "      <td>4</td>\n",
       "      <td>Manicure hybrydowy</td>\n",
       "      <td>1g 30min</td>\n",
       "      <td>ul. Fr. Nullo 42 lok U11, 31-543, Kraków, Śród...</td>\n",
       "      <td>110.00</td>\n",
       "    </tr>\n",
       "  </tbody>\n",
       "</table>\n",
       "</div>"
      ],
      "text/plain": [
       "   Unnamed: 0                          Description  Duration  \\\n",
       "0           0                   Manicure hybrydowy        2g   \n",
       "1           1      Manicure hybrydowy+ baby boomer        3g   \n",
       "2           2           Manicure hybrydowy+ french        2g   \n",
       "3           3  Manicure hybrydowy+ baza proteinowa  1g 30min   \n",
       "4           4                   Manicure hybrydowy  1g 30min   \n",
       "\n",
       "                                            Location   Price  \n",
       "0  Generała Władysława Sikorskiego 14, 09-410, Płock  120.00  \n",
       "1  Generała Władysława Sikorskiego 14, 09-410, Płock  170.00  \n",
       "2  Generała Władysława Sikorskiego 14, 09-410, Płock  150.00  \n",
       "3  ul. Fr. Nullo 42 lok U11, 31-543, Kraków, Śród...  130.00  \n",
       "4  ul. Fr. Nullo 42 lok U11, 31-543, Kraków, Śród...  110.00  "
      ]
     },
     "execution_count": 3,
     "metadata": {},
     "output_type": "execute_result"
    }
   ],
   "source": [
    "df.head()"
   ]
  },
  {
   "cell_type": "code",
   "execution_count": 4,
   "metadata": {},
   "outputs": [],
   "source": [
    "df = df.drop(columns=['Unnamed: 0'], axis=1)"
   ]
  },
  {
   "cell_type": "code",
   "execution_count": 5,
   "metadata": {},
   "outputs": [
    {
     "data": {
      "text/html": [
       "<div>\n",
       "<style scoped>\n",
       "    .dataframe tbody tr th:only-of-type {\n",
       "        vertical-align: middle;\n",
       "    }\n",
       "\n",
       "    .dataframe tbody tr th {\n",
       "        vertical-align: top;\n",
       "    }\n",
       "\n",
       "    .dataframe thead th {\n",
       "        text-align: right;\n",
       "    }\n",
       "</style>\n",
       "<table border=\"1\" class=\"dataframe\">\n",
       "  <thead>\n",
       "    <tr style=\"text-align: right;\">\n",
       "      <th></th>\n",
       "      <th>Description</th>\n",
       "      <th>Duration</th>\n",
       "      <th>Location</th>\n",
       "      <th>Price</th>\n",
       "    </tr>\n",
       "  </thead>\n",
       "  <tbody>\n",
       "    <tr>\n",
       "      <th>0</th>\n",
       "      <td>Manicure hybrydowy</td>\n",
       "      <td>2g</td>\n",
       "      <td>Generała Władysława Sikorskiego 14, 09-410, Płock</td>\n",
       "      <td>120.00</td>\n",
       "    </tr>\n",
       "    <tr>\n",
       "      <th>1</th>\n",
       "      <td>Manicure hybrydowy+ baby boomer</td>\n",
       "      <td>3g</td>\n",
       "      <td>Generała Władysława Sikorskiego 14, 09-410, Płock</td>\n",
       "      <td>170.00</td>\n",
       "    </tr>\n",
       "    <tr>\n",
       "      <th>2</th>\n",
       "      <td>Manicure hybrydowy+ french</td>\n",
       "      <td>2g</td>\n",
       "      <td>Generała Władysława Sikorskiego 14, 09-410, Płock</td>\n",
       "      <td>150.00</td>\n",
       "    </tr>\n",
       "    <tr>\n",
       "      <th>3</th>\n",
       "      <td>Manicure hybrydowy+ baza proteinowa</td>\n",
       "      <td>1g 30min</td>\n",
       "      <td>ul. Fr. Nullo 42 lok U11, 31-543, Kraków, Śród...</td>\n",
       "      <td>130.00</td>\n",
       "    </tr>\n",
       "    <tr>\n",
       "      <th>4</th>\n",
       "      <td>Manicure hybrydowy</td>\n",
       "      <td>1g 30min</td>\n",
       "      <td>ul. Fr. Nullo 42 lok U11, 31-543, Kraków, Śród...</td>\n",
       "      <td>110.00</td>\n",
       "    </tr>\n",
       "  </tbody>\n",
       "</table>\n",
       "</div>"
      ],
      "text/plain": [
       "                           Description  Duration  \\\n",
       "0                   Manicure hybrydowy        2g   \n",
       "1      Manicure hybrydowy+ baby boomer        3g   \n",
       "2           Manicure hybrydowy+ french        2g   \n",
       "3  Manicure hybrydowy+ baza proteinowa  1g 30min   \n",
       "4                   Manicure hybrydowy  1g 30min   \n",
       "\n",
       "                                            Location   Price  \n",
       "0  Generała Władysława Sikorskiego 14, 09-410, Płock  120.00  \n",
       "1  Generała Władysława Sikorskiego 14, 09-410, Płock  170.00  \n",
       "2  Generała Władysława Sikorskiego 14, 09-410, Płock  150.00  \n",
       "3  ul. Fr. Nullo 42 lok U11, 31-543, Kraków, Śród...  130.00  \n",
       "4  ul. Fr. Nullo 42 lok U11, 31-543, Kraków, Śród...  110.00  "
      ]
     },
     "execution_count": 5,
     "metadata": {},
     "output_type": "execute_result"
    }
   ],
   "source": [
    "df.head()"
   ]
  },
  {
   "cell_type": "markdown",
   "metadata": {},
   "source": [
    "### Ograniczenie zbioru danych do danych zawierających 'Laminację rzęs' oraz posiadających konkretną cenę"
   ]
  },
  {
   "cell_type": "code",
   "execution_count": 12,
   "metadata": {},
   "outputs": [],
   "source": [
    "data = df[df['Description'].str.contains('Manicure hybrydowy')]"
   ]
  },
  {
   "cell_type": "code",
   "execution_count": 13,
   "metadata": {},
   "outputs": [],
   "source": [
    "data = data[(data['Price'] != '-') & (data['Price'] != 'Zmienna')& (data['Price'] != 'Darmowa')]\n",
    "data.reset_index(inplace=True)\n",
    "data = data.drop(columns=['index'], axis=1)\n",
    "data['Price'] = data['Price'].astype(float)"
   ]
  },
  {
   "cell_type": "code",
   "execution_count": 17,
   "metadata": {},
   "outputs": [
    {
     "data": {
      "text/html": [
       "<div>\n",
       "<style scoped>\n",
       "    .dataframe tbody tr th:only-of-type {\n",
       "        vertical-align: middle;\n",
       "    }\n",
       "\n",
       "    .dataframe tbody tr th {\n",
       "        vertical-align: top;\n",
       "    }\n",
       "\n",
       "    .dataframe thead th {\n",
       "        text-align: right;\n",
       "    }\n",
       "</style>\n",
       "<table border=\"1\" class=\"dataframe\">\n",
       "  <thead>\n",
       "    <tr style=\"text-align: right;\">\n",
       "      <th></th>\n",
       "      <th>Description</th>\n",
       "      <th>Duration</th>\n",
       "      <th>Location</th>\n",
       "      <th>Price</th>\n",
       "    </tr>\n",
       "  </thead>\n",
       "  <tbody>\n",
       "    <tr>\n",
       "      <th>0</th>\n",
       "      <td>Manicure hybrydowy</td>\n",
       "      <td>2g</td>\n",
       "      <td>Generała Władysława Sikorskiego 14, 09-410, Płock</td>\n",
       "      <td>120.0</td>\n",
       "    </tr>\n",
       "    <tr>\n",
       "      <th>1</th>\n",
       "      <td>Manicure hybrydowy+ baby boomer</td>\n",
       "      <td>3g</td>\n",
       "      <td>Generała Władysława Sikorskiego 14, 09-410, Płock</td>\n",
       "      <td>170.0</td>\n",
       "    </tr>\n",
       "    <tr>\n",
       "      <th>2</th>\n",
       "      <td>Manicure hybrydowy+ french</td>\n",
       "      <td>2g</td>\n",
       "      <td>Generała Władysława Sikorskiego 14, 09-410, Płock</td>\n",
       "      <td>150.0</td>\n",
       "    </tr>\n",
       "    <tr>\n",
       "      <th>3</th>\n",
       "      <td>Manicure hybrydowy+ baza proteinowa</td>\n",
       "      <td>1g 30min</td>\n",
       "      <td>ul. Fr. Nullo 42 lok U11, 31-543, Kraków, Śród...</td>\n",
       "      <td>130.0</td>\n",
       "    </tr>\n",
       "    <tr>\n",
       "      <th>4</th>\n",
       "      <td>Manicure hybrydowy</td>\n",
       "      <td>1g 30min</td>\n",
       "      <td>ul. Fr. Nullo 42 lok U11, 31-543, Kraków, Śród...</td>\n",
       "      <td>110.0</td>\n",
       "    </tr>\n",
       "  </tbody>\n",
       "</table>\n",
       "</div>"
      ],
      "text/plain": [
       "                           Description  Duration  \\\n",
       "0                   Manicure hybrydowy        2g   \n",
       "1      Manicure hybrydowy+ baby boomer        3g   \n",
       "2           Manicure hybrydowy+ french        2g   \n",
       "3  Manicure hybrydowy+ baza proteinowa  1g 30min   \n",
       "4                   Manicure hybrydowy  1g 30min   \n",
       "\n",
       "                                            Location  Price  \n",
       "0  Generała Władysława Sikorskiego 14, 09-410, Płock  120.0  \n",
       "1  Generała Władysława Sikorskiego 14, 09-410, Płock  170.0  \n",
       "2  Generała Władysława Sikorskiego 14, 09-410, Płock  150.0  \n",
       "3  ul. Fr. Nullo 42 lok U11, 31-543, Kraków, Śród...  130.0  \n",
       "4  ul. Fr. Nullo 42 lok U11, 31-543, Kraków, Śród...  110.0  "
      ]
     },
     "execution_count": 17,
     "metadata": {},
     "output_type": "execute_result"
    }
   ],
   "source": [
    "data.head()"
   ]
  },
  {
   "cell_type": "code",
   "execution_count": 19,
   "metadata": {},
   "outputs": [
    {
     "data": {
      "text/plain": [
       "(14004, 4)"
      ]
     },
     "execution_count": 19,
     "metadata": {},
     "output_type": "execute_result"
    }
   ],
   "source": [
    "data.shape"
   ]
  },
  {
   "cell_type": "markdown",
   "metadata": {},
   "source": [
    "### Zmiana adresu na dane geolokalizacyjne"
   ]
  },
  {
   "cell_type": "code",
   "execution_count": 20,
   "metadata": {},
   "outputs": [],
   "source": [
    "geolocator = Nominatim(user_agent=\"PDP/7\")\n",
    "geocode = RateLimiter(geolocator.geocode, min_delay_seconds=5)  # Rate limiter to avoid overloading the service"
   ]
  },
  {
   "cell_type": "code",
   "execution_count": 21,
   "metadata": {},
   "outputs": [],
   "source": [
    "def geocode_address(address):\n",
    "    try:\n",
    "        location = geolocator.geocode(address)\n",
    "        if location:\n",
    "            return Point(location.longitude, location.latitude)\n",
    "    except:\n",
    "        return 'brak'"
   ]
  },
  {
   "cell_type": "code",
   "execution_count": 23,
   "metadata": {},
   "outputs": [
    {
     "name": "stderr",
     "output_type": "stream",
     "text": [
      "  0%|          | 0/14004 [00:00<?, ?it/s]"
     ]
    },
    {
     "name": "stderr",
     "output_type": "stream",
     "text": [
      "100%|██████████| 14004/14004 [2:04:15<00:00,  1.88it/s]  \n"
     ]
    }
   ],
   "source": [
    "tqdm.pandas()\n",
    "data['geometry'] = data['Location'].progress_apply(geocode_address)"
   ]
  },
  {
   "cell_type": "markdown",
   "metadata": {},
   "source": [
    "### Sprawdzenie czy wszystkie adresy zostały porzekształcone w dane geolokalizacyjne"
   ]
  },
  {
   "cell_type": "code",
   "execution_count": 42,
   "metadata": {},
   "outputs": [
    {
     "data": {
      "text/html": [
       "<div>\n",
       "<style scoped>\n",
       "    .dataframe tbody tr th:only-of-type {\n",
       "        vertical-align: middle;\n",
       "    }\n",
       "\n",
       "    .dataframe tbody tr th {\n",
       "        vertical-align: top;\n",
       "    }\n",
       "\n",
       "    .dataframe thead th {\n",
       "        text-align: right;\n",
       "    }\n",
       "</style>\n",
       "<table border=\"1\" class=\"dataframe\">\n",
       "  <thead>\n",
       "    <tr style=\"text-align: right;\">\n",
       "      <th></th>\n",
       "      <th>Description</th>\n",
       "      <th>Duration</th>\n",
       "      <th>Location</th>\n",
       "      <th>Price</th>\n",
       "      <th>geometry</th>\n",
       "    </tr>\n",
       "  </thead>\n",
       "  <tbody>\n",
       "    <tr>\n",
       "      <th>9866</th>\n",
       "      <td>Manicure hybrydowy bez koloru</td>\n",
       "      <td>1g</td>\n",
       "      <td>plac Kazimierza Pułaskiego 7, C.H Manhattan, k...</td>\n",
       "      <td>100.0</td>\n",
       "      <td>brak</td>\n",
       "    </tr>\n",
       "    <tr>\n",
       "      <th>10465</th>\n",
       "      <td>Manicure hybrydowy</td>\n",
       "      <td>2g</td>\n",
       "      <td>rynek zygmunta augusta 12/1, 16-300, Augustów</td>\n",
       "      <td>120.0</td>\n",
       "      <td>brak</td>\n",
       "    </tr>\n",
       "  </tbody>\n",
       "</table>\n",
       "</div>"
      ],
      "text/plain": [
       "                         Description Duration  \\\n",
       "9866   Manicure hybrydowy bez koloru       1g   \n",
       "10465             Manicure hybrydowy       2g   \n",
       "\n",
       "                                                Location  Price geometry  \n",
       "9866   plac Kazimierza Pułaskiego 7, C.H Manhattan, k...  100.0     brak  \n",
       "10465      rynek zygmunta augusta 12/1, 16-300, Augustów  120.0     brak  "
      ]
     },
     "execution_count": 42,
     "metadata": {},
     "output_type": "execute_result"
    }
   ],
   "source": [
    "data[data['geometry']=='brak']"
   ]
  },
  {
   "cell_type": "code",
   "execution_count": 43,
   "metadata": {},
   "outputs": [
    {
     "data": {
      "text/plain": [
       "(7421, 5)"
      ]
     },
     "execution_count": 43,
     "metadata": {},
     "output_type": "execute_result"
    }
   ],
   "source": [
    "data[data['geometry'].isna()].shape"
   ]
  },
  {
   "cell_type": "code",
   "execution_count": 64,
   "metadata": {},
   "outputs": [],
   "source": [
    "data = data[(data['geometry'] != 'brak') & (data['geometry'].notna())]\n",
    "data.reset_index(inplace=True)\n",
    "data = data.drop(columns=['index'], axis=1)"
   ]
  },
  {
   "cell_type": "code",
   "execution_count": 65,
   "metadata": {},
   "outputs": [
    {
     "data": {
      "text/html": [
       "<div>\n",
       "<style scoped>\n",
       "    .dataframe tbody tr th:only-of-type {\n",
       "        vertical-align: middle;\n",
       "    }\n",
       "\n",
       "    .dataframe tbody tr th {\n",
       "        vertical-align: top;\n",
       "    }\n",
       "\n",
       "    .dataframe thead th {\n",
       "        text-align: right;\n",
       "    }\n",
       "</style>\n",
       "<table border=\"1\" class=\"dataframe\">\n",
       "  <thead>\n",
       "    <tr style=\"text-align: right;\">\n",
       "      <th></th>\n",
       "      <th>Description</th>\n",
       "      <th>Duration</th>\n",
       "      <th>Location</th>\n",
       "      <th>Price</th>\n",
       "      <th>geometry</th>\n",
       "    </tr>\n",
       "  </thead>\n",
       "  <tbody>\n",
       "    <tr>\n",
       "      <th>0</th>\n",
       "      <td>Manicure hybrydowy</td>\n",
       "      <td>2g</td>\n",
       "      <td>Generała Władysława Sikorskiego 14, 09-410, Płock</td>\n",
       "      <td>120.0</td>\n",
       "      <td>POINT (19.7551731 52.5378894)</td>\n",
       "    </tr>\n",
       "    <tr>\n",
       "      <th>1</th>\n",
       "      <td>Manicure hybrydowy+ baby boomer</td>\n",
       "      <td>3g</td>\n",
       "      <td>Generała Władysława Sikorskiego 14, 09-410, Płock</td>\n",
       "      <td>170.0</td>\n",
       "      <td>POINT (19.7551731 52.5378894)</td>\n",
       "    </tr>\n",
       "    <tr>\n",
       "      <th>2</th>\n",
       "      <td>Manicure hybrydowy+ french</td>\n",
       "      <td>2g</td>\n",
       "      <td>Generała Władysława Sikorskiego 14, 09-410, Płock</td>\n",
       "      <td>150.0</td>\n",
       "      <td>POINT (19.7551731 52.5378894)</td>\n",
       "    </tr>\n",
       "    <tr>\n",
       "      <th>3</th>\n",
       "      <td>Manicure hybrydowy ( bez zdjęcia poprzedniego ...</td>\n",
       "      <td>1g 15min</td>\n",
       "      <td>Świerkowa 36, 18-230, Ciechanowiec</td>\n",
       "      <td>100.0</td>\n",
       "      <td>POINT (22.4891183 52.6904013)</td>\n",
       "    </tr>\n",
       "    <tr>\n",
       "      <th>4</th>\n",
       "      <td>Manicure hybrydowy +henna brwi+ regulacja+ dep...</td>\n",
       "      <td>1g 30min</td>\n",
       "      <td>Świerkowa 36, 18-230, Ciechanowiec</td>\n",
       "      <td>155.0</td>\n",
       "      <td>POINT (22.4891183 52.6904013)</td>\n",
       "    </tr>\n",
       "    <tr>\n",
       "      <th>...</th>\n",
       "      <td>...</td>\n",
       "      <td>...</td>\n",
       "      <td>...</td>\n",
       "      <td>...</td>\n",
       "      <td>...</td>\n",
       "    </tr>\n",
       "    <tr>\n",
       "      <th>6576</th>\n",
       "      <td>Manicure hybrydowy</td>\n",
       "      <td>1g 30min</td>\n",
       "      <td>Handlowa 13/4, 84-300, Lębork</td>\n",
       "      <td>80.0</td>\n",
       "      <td>POINT (17.7509876 54.5398359)</td>\n",
       "    </tr>\n",
       "    <tr>\n",
       "      <th>6577</th>\n",
       "      <td>Manicure hybrydowy</td>\n",
       "      <td>1g 30min</td>\n",
       "      <td>Targowa 1, 41-710, Ruda Śląska</td>\n",
       "      <td>120.0</td>\n",
       "      <td>POINT (18.86451695265776 50.2733113)</td>\n",
       "    </tr>\n",
       "    <tr>\n",
       "      <th>6578</th>\n",
       "      <td>Manicure hybrydowy</td>\n",
       "      <td>1g</td>\n",
       "      <td>Juliusza Słowackiego 2, 32-050, Skawina</td>\n",
       "      <td>115.0</td>\n",
       "      <td>POINT (19.827164 49.9748503)</td>\n",
       "    </tr>\n",
       "    <tr>\n",
       "      <th>6579</th>\n",
       "      <td>Manicure hybrydowy</td>\n",
       "      <td>1g</td>\n",
       "      <td>Insurekcji Kościuszkowskiej, 47, 43-600, Jaworzno</td>\n",
       "      <td>100.0</td>\n",
       "      <td>POINT (19.289151387569486 50.195196800000005)</td>\n",
       "    </tr>\n",
       "    <tr>\n",
       "      <th>6580</th>\n",
       "      <td>Manicure hybrydowy</td>\n",
       "      <td>1g 30min</td>\n",
       "      <td>bp. Tomasza Wilczyńskiego, 32, 10-686, Olsztyn</td>\n",
       "      <td>110.0</td>\n",
       "      <td>POINT (20.48042996394212 53.739839599999996)</td>\n",
       "    </tr>\n",
       "  </tbody>\n",
       "</table>\n",
       "<p>6581 rows × 5 columns</p>\n",
       "</div>"
      ],
      "text/plain": [
       "                                            Description  Duration  \\\n",
       "0                                    Manicure hybrydowy        2g   \n",
       "1                       Manicure hybrydowy+ baby boomer        3g   \n",
       "2                            Manicure hybrydowy+ french        2g   \n",
       "3     Manicure hybrydowy ( bez zdjęcia poprzedniego ...  1g 15min   \n",
       "4     Manicure hybrydowy +henna brwi+ regulacja+ dep...  1g 30min   \n",
       "...                                                 ...       ...   \n",
       "6576                                 Manicure hybrydowy  1g 30min   \n",
       "6577                                 Manicure hybrydowy  1g 30min   \n",
       "6578                                 Manicure hybrydowy        1g   \n",
       "6579                                 Manicure hybrydowy        1g   \n",
       "6580                                 Manicure hybrydowy  1g 30min   \n",
       "\n",
       "                                               Location  Price  \\\n",
       "0     Generała Władysława Sikorskiego 14, 09-410, Płock  120.0   \n",
       "1     Generała Władysława Sikorskiego 14, 09-410, Płock  170.0   \n",
       "2     Generała Władysława Sikorskiego 14, 09-410, Płock  150.0   \n",
       "3                    Świerkowa 36, 18-230, Ciechanowiec  100.0   \n",
       "4                    Świerkowa 36, 18-230, Ciechanowiec  155.0   \n",
       "...                                                 ...    ...   \n",
       "6576                      Handlowa 13/4, 84-300, Lębork   80.0   \n",
       "6577                     Targowa 1, 41-710, Ruda Śląska  120.0   \n",
       "6578            Juliusza Słowackiego 2, 32-050, Skawina  115.0   \n",
       "6579  Insurekcji Kościuszkowskiej, 47, 43-600, Jaworzno  100.0   \n",
       "6580     bp. Tomasza Wilczyńskiego, 32, 10-686, Olsztyn  110.0   \n",
       "\n",
       "                                           geometry  \n",
       "0                     POINT (19.7551731 52.5378894)  \n",
       "1                     POINT (19.7551731 52.5378894)  \n",
       "2                     POINT (19.7551731 52.5378894)  \n",
       "3                     POINT (22.4891183 52.6904013)  \n",
       "4                     POINT (22.4891183 52.6904013)  \n",
       "...                                             ...  \n",
       "6576                  POINT (17.7509876 54.5398359)  \n",
       "6577           POINT (18.86451695265776 50.2733113)  \n",
       "6578                   POINT (19.827164 49.9748503)  \n",
       "6579  POINT (19.289151387569486 50.195196800000005)  \n",
       "6580   POINT (20.48042996394212 53.739839599999996)  \n",
       "\n",
       "[6581 rows x 5 columns]"
      ]
     },
     "execution_count": 65,
     "metadata": {},
     "output_type": "execute_result"
    }
   ],
   "source": [
    "data"
   ]
  },
  {
   "cell_type": "code",
   "execution_count": 59,
   "metadata": {},
   "outputs": [
    {
     "data": {
      "text/plain": [
       "(6581, 6)"
      ]
     },
     "execution_count": 59,
     "metadata": {},
     "output_type": "execute_result"
    }
   ],
   "source": [
    "data.shape"
   ]
  },
  {
   "cell_type": "markdown",
   "metadata": {},
   "source": [
    "### Usunięcie podwójnych rekordów"
   ]
  },
  {
   "cell_type": "code",
   "execution_count": 10,
   "metadata": {},
   "outputs": [
    {
     "data": {
      "text/plain": [
       "(6581, 5)"
      ]
     },
     "execution_count": 10,
     "metadata": {},
     "output_type": "execute_result"
    }
   ],
   "source": [
    "data.shape"
   ]
  },
  {
   "cell_type": "code",
   "execution_count": 11,
   "metadata": {},
   "outputs": [],
   "source": [
    "data = data.drop_duplicates()"
   ]
  },
  {
   "cell_type": "code",
   "execution_count": 12,
   "metadata": {},
   "outputs": [
    {
     "data": {
      "text/plain": [
       "(4536, 5)"
      ]
     },
     "execution_count": 12,
     "metadata": {},
     "output_type": "execute_result"
    }
   ],
   "source": [
    "data.shape"
   ]
  },
  {
   "cell_type": "markdown",
   "metadata": {},
   "source": [
    "### Zapisanie danych do pliku pickle"
   ]
  },
  {
   "cell_type": "code",
   "execution_count": 13,
   "metadata": {},
   "outputs": [],
   "source": [
    "data.to_pickle('data_hybrid.pkl')"
   ]
  }
 ],
 "metadata": {
  "kernelspec": {
   "display_name": ".venv",
   "language": "python",
   "name": "python3"
  },
  "language_info": {
   "codemirror_mode": {
    "name": "ipython",
    "version": 3
   },
   "file_extension": ".py",
   "mimetype": "text/x-python",
   "name": "python",
   "nbconvert_exporter": "python",
   "pygments_lexer": "ipython3",
   "version": "3.10.10"
  }
 },
 "nbformat": 4,
 "nbformat_minor": 2
}
